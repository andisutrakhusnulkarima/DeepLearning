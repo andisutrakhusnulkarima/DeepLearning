{
  "nbformat": 4,
  "nbformat_minor": 0,
  "metadata": {
    "colab": {
      "provenance": [],
      "gpuType": "T4",
      "authorship_tag": "ABX9TyNLRk5DSRBMY4yvSnlbWN2l",
      "include_colab_link": true
    },
    "kernelspec": {
      "name": "python3",
      "display_name": "Python 3"
    },
    "language_info": {
      "name": "python"
    },
    "accelerator": "GPU"
  },
  "cells": [
    {
      "cell_type": "markdown",
      "metadata": {
        "id": "view-in-github",
        "colab_type": "text"
      },
      "source": [
        "<a href=\"https://colab.research.google.com/github/andisutrakhusnulkarima/DeepLearning/blob/main/UTS/Mlp%20ipynb\" target=\"_parent\"><img src=\"https://colab.research.google.com/assets/colab-badge.svg\" alt=\"Open In Colab\"/></a>"
      ]
    },
    {
      "cell_type": "markdown",
      "source": [
        "1. Buat pipeline end‑to‑end untuk regresi/klasifikasi model deep learning:\n",
        "a. Pengumpulan & pembersihan data (Pandas). Coba pakai semua feature (fokus di feature engineering)\n",
        "b. Feature Engineering(Transformasi Data, Label Encoding, One-hot Encoding, etc)\n",
        "d. Model‑model yang akan dijalankan dengan modul TensorFlow/PyTorch untuk MLP\n",
        "2. Gunakan Matriks Evaluasi Regresi (RMSE,MSE,RSquared) serta visualisasikan predicted dan actual value! Jelaskan matriks mana terbaik! Gunakan Matriks Evaluasi Klasifikasi (Accuracy, Precision, Recall, F1-Score, AUC-ROC) serta visualisasikan confusion matrix! Jelaskan matriks mana terbaik!"
      ],
      "metadata": {
        "id": "Jn0gSKpaz7rx"
      }
    },
    {
      "cell_type": "code",
      "source": [
        "from google.colab import files\n",
        "uploaded = files.upload()\n"
      ],
      "metadata": {
        "colab": {
          "base_uri": "https://localhost:8080/",
          "height": 73
        },
        "id": "El-HtKehmG9V",
        "outputId": "02bf7ed0-6b9e-47d1-ca0c-6594de93a916"
      },
      "execution_count": 6,
      "outputs": [
        {
          "output_type": "display_data",
          "data": {
            "text/plain": [
              "<IPython.core.display.HTML object>"
            ],
            "text/html": [
              "\n",
              "     <input type=\"file\" id=\"files-01b1289a-dc17-4d97-b4ae-d779265d6073\" name=\"files[]\" multiple disabled\n",
              "        style=\"border:none\" />\n",
              "     <output id=\"result-01b1289a-dc17-4d97-b4ae-d779265d6073\">\n",
              "      Upload widget is only available when the cell has been executed in the\n",
              "      current browser session. Please rerun this cell to enable.\n",
              "      </output>\n",
              "      <script>// Copyright 2017 Google LLC\n",
              "//\n",
              "// Licensed under the Apache License, Version 2.0 (the \"License\");\n",
              "// you may not use this file except in compliance with the License.\n",
              "// You may obtain a copy of the License at\n",
              "//\n",
              "//      http://www.apache.org/licenses/LICENSE-2.0\n",
              "//\n",
              "// Unless required by applicable law or agreed to in writing, software\n",
              "// distributed under the License is distributed on an \"AS IS\" BASIS,\n",
              "// WITHOUT WARRANTIES OR CONDITIONS OF ANY KIND, either express or implied.\n",
              "// See the License for the specific language governing permissions and\n",
              "// limitations under the License.\n",
              "\n",
              "/**\n",
              " * @fileoverview Helpers for google.colab Python module.\n",
              " */\n",
              "(function(scope) {\n",
              "function span(text, styleAttributes = {}) {\n",
              "  const element = document.createElement('span');\n",
              "  element.textContent = text;\n",
              "  for (const key of Object.keys(styleAttributes)) {\n",
              "    element.style[key] = styleAttributes[key];\n",
              "  }\n",
              "  return element;\n",
              "}\n",
              "\n",
              "// Max number of bytes which will be uploaded at a time.\n",
              "const MAX_PAYLOAD_SIZE = 100 * 1024;\n",
              "\n",
              "function _uploadFiles(inputId, outputId) {\n",
              "  const steps = uploadFilesStep(inputId, outputId);\n",
              "  const outputElement = document.getElementById(outputId);\n",
              "  // Cache steps on the outputElement to make it available for the next call\n",
              "  // to uploadFilesContinue from Python.\n",
              "  outputElement.steps = steps;\n",
              "\n",
              "  return _uploadFilesContinue(outputId);\n",
              "}\n",
              "\n",
              "// This is roughly an async generator (not supported in the browser yet),\n",
              "// where there are multiple asynchronous steps and the Python side is going\n",
              "// to poll for completion of each step.\n",
              "// This uses a Promise to block the python side on completion of each step,\n",
              "// then passes the result of the previous step as the input to the next step.\n",
              "function _uploadFilesContinue(outputId) {\n",
              "  const outputElement = document.getElementById(outputId);\n",
              "  const steps = outputElement.steps;\n",
              "\n",
              "  const next = steps.next(outputElement.lastPromiseValue);\n",
              "  return Promise.resolve(next.value.promise).then((value) => {\n",
              "    // Cache the last promise value to make it available to the next\n",
              "    // step of the generator.\n",
              "    outputElement.lastPromiseValue = value;\n",
              "    return next.value.response;\n",
              "  });\n",
              "}\n",
              "\n",
              "/**\n",
              " * Generator function which is called between each async step of the upload\n",
              " * process.\n",
              " * @param {string} inputId Element ID of the input file picker element.\n",
              " * @param {string} outputId Element ID of the output display.\n",
              " * @return {!Iterable<!Object>} Iterable of next steps.\n",
              " */\n",
              "function* uploadFilesStep(inputId, outputId) {\n",
              "  const inputElement = document.getElementById(inputId);\n",
              "  inputElement.disabled = false;\n",
              "\n",
              "  const outputElement = document.getElementById(outputId);\n",
              "  outputElement.innerHTML = '';\n",
              "\n",
              "  const pickedPromise = new Promise((resolve) => {\n",
              "    inputElement.addEventListener('change', (e) => {\n",
              "      resolve(e.target.files);\n",
              "    });\n",
              "  });\n",
              "\n",
              "  const cancel = document.createElement('button');\n",
              "  inputElement.parentElement.appendChild(cancel);\n",
              "  cancel.textContent = 'Cancel upload';\n",
              "  const cancelPromise = new Promise((resolve) => {\n",
              "    cancel.onclick = () => {\n",
              "      resolve(null);\n",
              "    };\n",
              "  });\n",
              "\n",
              "  // Wait for the user to pick the files.\n",
              "  const files = yield {\n",
              "    promise: Promise.race([pickedPromise, cancelPromise]),\n",
              "    response: {\n",
              "      action: 'starting',\n",
              "    }\n",
              "  };\n",
              "\n",
              "  cancel.remove();\n",
              "\n",
              "  // Disable the input element since further picks are not allowed.\n",
              "  inputElement.disabled = true;\n",
              "\n",
              "  if (!files) {\n",
              "    return {\n",
              "      response: {\n",
              "        action: 'complete',\n",
              "      }\n",
              "    };\n",
              "  }\n",
              "\n",
              "  for (const file of files) {\n",
              "    const li = document.createElement('li');\n",
              "    li.append(span(file.name, {fontWeight: 'bold'}));\n",
              "    li.append(span(\n",
              "        `(${file.type || 'n/a'}) - ${file.size} bytes, ` +\n",
              "        `last modified: ${\n",
              "            file.lastModifiedDate ? file.lastModifiedDate.toLocaleDateString() :\n",
              "                                    'n/a'} - `));\n",
              "    const percent = span('0% done');\n",
              "    li.appendChild(percent);\n",
              "\n",
              "    outputElement.appendChild(li);\n",
              "\n",
              "    const fileDataPromise = new Promise((resolve) => {\n",
              "      const reader = new FileReader();\n",
              "      reader.onload = (e) => {\n",
              "        resolve(e.target.result);\n",
              "      };\n",
              "      reader.readAsArrayBuffer(file);\n",
              "    });\n",
              "    // Wait for the data to be ready.\n",
              "    let fileData = yield {\n",
              "      promise: fileDataPromise,\n",
              "      response: {\n",
              "        action: 'continue',\n",
              "      }\n",
              "    };\n",
              "\n",
              "    // Use a chunked sending to avoid message size limits. See b/62115660.\n",
              "    let position = 0;\n",
              "    do {\n",
              "      const length = Math.min(fileData.byteLength - position, MAX_PAYLOAD_SIZE);\n",
              "      const chunk = new Uint8Array(fileData, position, length);\n",
              "      position += length;\n",
              "\n",
              "      const base64 = btoa(String.fromCharCode.apply(null, chunk));\n",
              "      yield {\n",
              "        response: {\n",
              "          action: 'append',\n",
              "          file: file.name,\n",
              "          data: base64,\n",
              "        },\n",
              "      };\n",
              "\n",
              "      let percentDone = fileData.byteLength === 0 ?\n",
              "          100 :\n",
              "          Math.round((position / fileData.byteLength) * 100);\n",
              "      percent.textContent = `${percentDone}% done`;\n",
              "\n",
              "    } while (position < fileData.byteLength);\n",
              "  }\n",
              "\n",
              "  // All done.\n",
              "  yield {\n",
              "    response: {\n",
              "      action: 'complete',\n",
              "    }\n",
              "  };\n",
              "}\n",
              "\n",
              "scope.google = scope.google || {};\n",
              "scope.google.colab = scope.google.colab || {};\n",
              "scope.google.colab._files = {\n",
              "  _uploadFiles,\n",
              "  _uploadFilesContinue,\n",
              "};\n",
              "})(self);\n",
              "</script> "
            ]
          },
          "metadata": {}
        },
        {
          "output_type": "stream",
          "name": "stdout",
          "text": [
            "Saving RegresiUTSTelkom.csv to RegresiUTSTelkom.csv\n"
          ]
        }
      ]
    },
    {
      "cell_type": "code",
      "source": [
        "import pandas as pd\n",
        "import numpy as np\n",
        "from sklearn.preprocessing import StandardScaler\n",
        "from sklearn.model_selection import train_test_split\n",
        "import tensorflow as tf\n",
        "from tensorflow.keras import Sequential\n",
        "from tensorflow.keras.layers import Dense\n",
        "import matplotlib.pyplot as plt\n",
        "from sklearn.metrics import accuracy_score, precision_score, recall_score, f1_score, roc_auc_score\n",
        "from sklearn.metrics import confusion_matrix\n",
        "import seaborn as sns\n",
        "\n"
      ],
      "metadata": {
        "id": "6fKcRMDZpD6n"
      },
      "execution_count": 33,
      "outputs": []
    },
    {
      "cell_type": "code",
      "source": [
        "# Memuat dataset\n",
        "data = pd.read_csv('/content/RegresiUTSTelkom.csv')  # Sesuaikan dengan path file yang diunggah"
      ],
      "metadata": {
        "id": "NVjscozsCN9w"
      },
      "execution_count": 8,
      "outputs": []
    },
    {
      "cell_type": "code",
      "source": [
        "# Menampilkan beberapa baris pertama dari dataset\n",
        "print(data.head())"
      ],
      "metadata": {
        "colab": {
          "base_uri": "https://localhost:8080/"
        },
        "id": "6XpYRFGdCZnj",
        "outputId": "bb359218-6e7b-43b1-c750-d0b415dc0226"
      },
      "execution_count": 9,
      "outputs": [
        {
          "output_type": "stream",
          "name": "stdout",
          "text": [
            "   2001  49.94357  21.47114   73.0775   8.74861  -17.40628  -13.09905  \\\n",
            "0  2001  48.73215  18.42930  70.32679  12.94636  -10.32437  -24.83777   \n",
            "1  2001  50.95714  31.85602  55.81851  13.41693   -6.57898  -18.54940   \n",
            "2  2001  48.24750  -1.89837  36.29772   2.58776    0.97170  -26.21683   \n",
            "3  2001  50.97020  42.20998  67.09964   8.46791  -15.85279  -16.81409   \n",
            "4  2001  50.54767   0.31568  92.35066  22.38696  -25.51870  -19.04928   \n",
            "\n",
            "   -25.01202  -12.23257   7.83089  ...   13.0162  -54.40548  58.99367  \\\n",
            "0    8.76630   -0.92019  18.76548  ...   5.66812  -19.68073  33.04964   \n",
            "1   -3.27872   -2.35035  16.07017  ...   3.03800   26.05866 -50.92779   \n",
            "2    5.05097  -10.34124   3.55005  ...  34.57337 -171.70734 -16.96705   \n",
            "3  -12.48207   -9.37636  12.63699  ...   9.92661  -55.95724  64.92712   \n",
            "4   20.67345   -5.19943   3.63566  ...   6.59753  -50.69577  26.02574   \n",
            "\n",
            "   15.37344   1.11144  -23.08793   68.40795  -1.82223  -27.46348   2.26327  \n",
            "0  42.87836  -9.90378  -32.22788   70.49388  12.04941   58.43453  26.92061  \n",
            "1  10.93792  -0.07568   43.20130 -115.00698  -0.05859   39.67068  -0.66345  \n",
            "2 -46.67617 -12.51516   82.58061  -72.08993   9.90558  199.62971  18.85382  \n",
            "3 -17.72522  -1.49237   -7.50035   51.76631   7.88713   55.66926  28.74903  \n",
            "4  18.94430  -0.33730    6.09352   35.18381   5.00283  -11.02257   0.02263  \n",
            "\n",
            "[5 rows x 91 columns]\n"
          ]
        }
      ]
    },
    {
      "cell_type": "code",
      "source": [
        "# 2. Feature Engineering\n",
        "# Scaling untuk fitur numerik\n",
        "scaler = StandardScaler()\n",
        "numeric_features = data.select_dtypes(include=['float64', 'int64']).columns\n",
        "data[numeric_features] = scaler.fit_transform(data[numeric_features])"
      ],
      "metadata": {
        "id": "o3H2u8KFCgdY"
      },
      "execution_count": 10,
      "outputs": []
    },
    {
      "cell_type": "code",
      "source": [
        "# Periksa jika ada kolom numerik yang ditemukan\n",
        "print(f\"Fitur numerik: {numeric_features}\")"
      ],
      "metadata": {
        "colab": {
          "base_uri": "https://localhost:8080/"
        },
        "id": "El0wimrlDxrg",
        "outputId": "5eede3b8-dc3e-4eb7-b8aa-971157107dd9"
      },
      "execution_count": 11,
      "outputs": [
        {
          "output_type": "stream",
          "name": "stdout",
          "text": [
            "Fitur numerik: Index(['2001', '49.94357', '21.47114', '73.0775', '8.74861', '-17.40628',\n",
            "       '-13.09905', '-25.01202', '-12.23257', '7.83089', '-2.46783', '3.32136',\n",
            "       '-2.31521', '10.20556', '611.10913', '951.0896', '698.11428',\n",
            "       '408.98485', '383.70912', '326.51512', '238.11327', '251.42414',\n",
            "       '187.17351', '100.42652', '179.19498', '-8.41558', '-317.87038',\n",
            "       '95.86266', '48.10259', '-95.66303', '-18.06215', '1.96984', '34.42438',\n",
            "       '11.7267', '1.3679', '7.79444', '-0.36994', '-133.67852', '-83.26165',\n",
            "       '-37.29765', '73.04667', '-37.36684', '-3.13853', '-24.21531',\n",
            "       '-13.23066', '15.93809', '-18.60478', '82.15479', '240.5798',\n",
            "       '-10.29407', '31.58431', '-25.38187', '-3.90772', '13.29258', '41.5506',\n",
            "       '-7.26272', '-21.00863', '105.50848', '64.29856', '26.08481',\n",
            "       '-44.5911', '-8.30657', '7.93706', '-10.7366', '-95.44766', '-82.03307',\n",
            "       '-35.59194', '4.69525', '70.95626', '28.09139', '6.02015', '-37.13767',\n",
            "       '-41.1245', '-8.40816', '7.19877', '-8.60176', '-5.90857', '-12.32437',\n",
            "       '14.68734', '-54.32125', '40.14786', '13.0162', '-54.40548', '58.99367',\n",
            "       '15.37344', '1.11144', '-23.08793', '68.40795', '-1.82223', '-27.46348',\n",
            "       '2.26327'],\n",
            "      dtype='object')\n"
          ]
        }
      ]
    },
    {
      "cell_type": "code",
      "source": [
        "# One-hot Encoding untuk fitur kategorikal\n",
        "data = pd.get_dummies(data, drop_first=True)"
      ],
      "metadata": {
        "id": "ATNheLfHCjaQ"
      },
      "execution_count": 12,
      "outputs": []
    },
    {
      "cell_type": "code",
      "source": [
        "\n",
        "# 3. Log Transformation untuk fitur numerik yang sangat besar\n",
        "# Cek distribusi dari setiap fitur numerik dan lakukan log transformasi jika perlu\n",
        "for col in numeric_features:\n",
        "    # Menampilkan statistik untuk memastikan apakah ada nilai besar yang perlu di-log transform\n",
        "    print(f\"Distribusi fitur {col}: Max value = {data[col].max()}, Min value = {data[col].min()}\")\n",
        "\n",
        "    if data[col].max() > 100:  # Ambil threshold untuk memilih kolom yang besar\n",
        "        data[col] = np.log1p(data[col])  # Menggunakan log(1 + x) untuk menghindari masalah log(0)\n",
        "\n",
        "# Menampilkan beberapa baris pertama untuk memeriksa perubahan\n",
        "print(data.head())\n"
      ],
      "metadata": {
        "colab": {
          "base_uri": "https://localhost:8080/"
        },
        "id": "wufn9nSLFVT0",
        "outputId": "054b18bc-415f-4707-ccfb-1cda5477e1a4"
      },
      "execution_count": 13,
      "outputs": [
        {
          "output_type": "stream",
          "name": "stdout",
          "text": [
            "Distribusi fitur 2001: Max value = 1.1529476473639995, Min value = -6.988999794012992\n",
            "Distribusi fitur 49.94357: Max value = 3.062689669749128, Min value = -6.862424382917939\n",
            "Distribusi fitur 21.47114: Max value = 7.420970692477297, Min value = -6.560290107565527\n",
            "Distribusi fitur 73.0775: Max value = 8.908614446786613, Min value = -8.780173214917749\n",
            "Distribusi fitur 8.74861: Max value = 20.499423382196568, Min value = -9.517228581526277\n",
            "Distribusi fitur -17.40628: Max value = 11.750362183884356, Min value = -7.672519800051871\n",
            "Distribusi fitur -13.09905: Max value = 13.669487394276773, Min value = -5.620914933025684\n",
            "Distribusi fitur -25.01202: Max value = 11.995309881854515, Min value = -12.752196426207169\n",
            "Distribusi fitur -12.23257: Max value = 16.13981465798316, Min value = -8.878991011057616\n",
            "Distribusi fitur 7.83089: Max value = 13.471792674207647, Min value = -12.303566363662283\n",
            "Distribusi fitur -2.46783: Max value = 8.952665744935324, Min value = -6.663480555453203\n",
            "Distribusi fitur 3.32136: Max value = 20.17169318519573, Min value = -15.908669560473918\n",
            "Distribusi fitur -2.31521: Max value = 10.260245863160858, Min value = -11.608877232981245\n",
            "Distribusi fitur 10.20556: Max value = 23.183285746110194, Min value = -1.5086168988633541\n",
            "Distribusi fitur 611.10913: Max value = 36.182492713421276, Min value = -1.3895828265082084\n",
            "Distribusi fitur 951.0896: Max value = 27.625442960318065, Min value = -1.5430412356800502\n",
            "Distribusi fitur 698.11428: Max value = 27.757851388906538, Min value = -1.3698406595782229\n",
            "Distribusi fitur 408.98485: Max value = 39.84579203194421, Min value = -1.8894626222278466\n",
            "Distribusi fitur 383.70912: Max value = 27.65427834933905, Min value = -1.5144428807561952\n",
            "Distribusi fitur 326.51512: Max value = 35.584254720397574, Min value = -1.8391524513790733\n",
            "Distribusi fitur 238.11327: Max value = 29.260624643428883, Min value = -1.65282386303621\n",
            "Distribusi fitur 251.42414: Max value = 43.09380952956806, Min value = -1.8119366080837958\n",
            "Distribusi fitur 187.17351: Max value = 20.4958040470513, Min value = -1.8734297290550153\n",
            "Distribusi fitur 100.42652: Max value = 34.4898227812134, Min value = -1.5124528640909631\n",
            "Distribusi fitur 179.19498: Max value = 62.0376279342176, Min value = -1.8686760333985408\n",
            "Distribusi fitur -8.41558: Max value = 16.5245895888896, Min value = -23.589513430067317\n",
            "Distribusi fitur -317.87038: Max value = 34.140471974988664, Min value = -18.76843576559585\n",
            "Distribusi fitur 95.86266: Max value = 26.706423550674128, Min value = -21.969320476667658\n",
            "Distribusi fitur 48.10259: Max value = 15.74535366944666, Min value = -19.678629178287853\n",
            "Distribusi fitur -95.66303: Max value = 19.989955884247514, Min value = -20.66123707669394\n",
            "Distribusi fitur -18.06215: Max value = 26.011765280598468, Min value = -23.426058140392247\n",
            "Distribusi fitur 1.96984: Max value = 23.638383944162783, Min value = -38.458676891269334\n",
            "Distribusi fitur 34.42438: Max value = 26.88097753330124, Min value = -21.450942331863747\n",
            "Distribusi fitur 11.7267: Max value = 38.681392655384855, Min value = -22.692904397091347\n",
            "Distribusi fitur 1.3679: Max value = 43.62185770615371, Min value = -29.64398598754604\n",
            "Distribusi fitur 7.79444: Max value = 42.662279038860106, Min value = -23.302802211938534\n",
            "Distribusi fitur -0.36994: Max value = 22.457717125478766, Min value = -16.53316413851779\n",
            "Distribusi fitur -133.67852: Max value = 34.21470285096872, Min value = -20.231236281096173\n",
            "Distribusi fitur -83.26165: Max value = 17.514865467907118, Min value = -22.526834308012983\n",
            "Distribusi fitur -37.29765: Max value = 23.99788679142566, Min value = -36.88491022775437\n",
            "Distribusi fitur 73.04667: Max value = 40.52234235851141, Min value = -38.42682740996428\n",
            "Distribusi fitur -37.36684: Max value = 29.531017813220064, Min value = -38.98823894297592\n",
            "Distribusi fitur -3.13853: Max value = 32.324691690866594, Min value = -34.99131893376272\n",
            "Distribusi fitur -24.21531: Max value = 17.038978674721637, Min value = -66.87397114058068\n",
            "Distribusi fitur -13.23066: Max value = 47.61865116547778, Min value = -28.044818474572537\n",
            "Distribusi fitur 15.93809: Max value = 18.00917255712738, Min value = -24.546740630751138\n",
            "Distribusi fitur -18.60478: Max value = 21.688149291737442, Min value = -24.30757355917897\n",
            "Distribusi fitur 82.15479: Max value = 19.084375496548887, Min value = -31.747727326647006\n",
            "Distribusi fitur 240.5798: Max value = 26.012663284268818, Min value = -15.761653069728824\n",
            "Distribusi fitur -10.29407: Max value = 29.870511382726626, Min value = -31.2880499110073\n",
            "Distribusi fitur 31.58431: Max value = 16.716359533221713, Min value = -19.399894540350132\n",
            "Distribusi fitur -25.38187: Max value = 15.183148086129071, Min value = -24.340479217666104\n",
            "Distribusi fitur -3.90772: Max value = 32.40723727277849, Min value = -23.648098393476747\n",
            "Distribusi fitur 13.29258: Max value = 34.03582684451702, Min value = -45.739711910498144\n",
            "Distribusi fitur 41.5506: Max value = 34.80868246378291, Min value = -26.435140765562963\n",
            "Distribusi fitur -7.26272: Max value = 10.022057321377932, Min value = -29.132580263018315\n",
            "Distribusi fitur -21.00863: Max value = 25.16665337278146, Min value = -19.056275252647424\n",
            "Distribusi fitur 105.50848: Max value = 40.4813993813458, Min value = -16.765773169375354\n",
            "Distribusi fitur 64.29856: Max value = 48.7352030493233, Min value = -17.732508744978116\n",
            "Distribusi fitur 26.08481: Max value = 31.824274364714, Min value = -22.44703567255706\n",
            "Distribusi fitur -44.5911: Max value = 39.68740450240017, Min value = -17.156528980790945\n",
            "Distribusi fitur -8.30657: Max value = 30.412312904339398, Min value = -32.01843833411494\n",
            "Distribusi fitur 7.93706: Max value = 19.77872502233686, Min value = -28.405212153651348\n",
            "Distribusi fitur -10.7366: Max value = 21.57648234765634, Min value = -15.915202412343973\n",
            "Distribusi fitur -95.44766: Max value = 36.29746722245829, Min value = -33.12144003075325\n",
            "Distribusi fitur -82.03307: Max value = 12.954338410101654, Min value = -33.192311628290916\n",
            "Distribusi fitur -35.59194: Max value = 26.901910326130043, Min value = -30.408061179202107\n",
            "Distribusi fitur 4.69525: Max value = 20.53511043325765, Min value = -12.031072305927097\n",
            "Distribusi fitur 70.95626: Max value = 40.72248458014788, Min value = -22.215219102632833\n",
            "Distribusi fitur 28.09139: Max value = 49.40769521368151, Min value = -18.209925794130736\n",
            "Distribusi fitur 6.02015: Max value = 20.28140609032782, Min value = -26.464345219903187\n",
            "Distribusi fitur -37.13767: Max value = 15.766673997555605, Min value = -28.0150707917009\n",
            "Distribusi fitur -41.1245: Max value = 20.67721613636607, Min value = -30.377168301609014\n",
            "Distribusi fitur -8.40816: Max value = 13.136000921123914, Min value = -51.12420201391677\n",
            "Distribusi fitur 7.19877: Max value = 26.10046410406073, Min value = -28.45603319017154\n",
            "Distribusi fitur -8.60176: Max value = 20.09390137392802, Min value = -21.114557895713553\n",
            "Distribusi fitur -5.90857: Max value = 28.325376423639604, Min value = -27.04454565408651\n",
            "Distribusi fitur -12.32437: Max value = 37.449395428865195, Min value = -36.57152082622603\n",
            "Distribusi fitur 14.68734: Max value = 23.533377200272323, Min value = -14.268489481741659\n",
            "Distribusi fitur -54.32125: Max value = 26.3168326363757, Min value = -41.19102679996773\n",
            "Distribusi fitur 40.14786: Max value = 29.940463475010556, Min value = -38.61107005119649\n",
            "Distribusi fitur 13.0162: Max value = 25.708017389280844, Min value = -14.127183836429964\n",
            "Distribusi fitur -54.40548: Max value = 25.86804001989407, Min value = -24.649483709100398\n",
            "Distribusi fitur 58.99367: Max value = 25.928090577655915, Min value = -15.153806856765486\n",
            "Distribusi fitur 15.37344: Max value = 17.84465405688933, Min value = -32.995937276040706\n",
            "Distribusi fitur 1.11144: Max value = 16.101531344505066, Min value = -21.16754513191011\n",
            "Distribusi fitur -23.08793: Max value = 31.84884678341181, Min value = -27.84805211088387\n",
            "Distribusi fitur 68.40795: Max value = 16.438493411456374, Min value = -24.67952511950978\n",
            "Distribusi fitur -1.82223: Max value = 34.38796657458125, Min value = -18.019476526187898\n",
            "Distribusi fitur -27.46348: Max value = 39.736114197118425, Min value = -40.30224464786666\n",
            "Distribusi fitur 2.26327: Max value = 30.629883789010425, Min value = -17.328121456288894\n",
            "       2001  49.94357  21.47114   73.0775   8.74861  -17.40628  -13.09905  \\\n",
            "0  0.238122  0.880922  0.332293  1.748547  0.721828  -0.164946  -1.191173   \n",
            "1  0.238122  1.247625  0.592600  1.337180  0.750657  -0.001111  -0.702100   \n",
            "2  0.238122  0.801046 -0.061804  0.783689  0.087219   0.329179  -1.298428   \n",
            "3  0.238122  1.249777  0.793334  1.657044  0.447460  -0.406776  -0.567138   \n",
            "4  0.238122  1.180139 -0.018880  2.373010  1.300198  -0.829592  -0.740978   \n",
            "\n",
            "   -25.01202  -12.23257   7.83089  ...   13.0162  -54.40548  58.99367  \\\n",
            "0   0.765679   0.109624  1.420940  ... -0.314249   0.306236 -0.069482   \n",
            "1  -0.060917  -0.069958  1.166254  ... -0.396186   0.566683 -0.756533   \n",
            "2   0.510712  -1.073358 -0.016802  ...  0.586236  -0.559426 -0.478688   \n",
            "3  -0.692502  -0.952200  0.841845  ... -0.181585   0.099672  0.191319   \n",
            "4   1.582813  -0.427711 -0.008713  ... -0.285296   0.129632 -0.126948   \n",
            "\n",
            "   15.37344   1.11144  -23.08793  68.40795  -1.82223  -27.46348   2.26327  \n",
            "0  0.052016 -0.632328  -0.436058  0.556448  0.568743   0.206939  1.158586  \n",
            "1 -0.284020 -0.024219   0.223127 -0.509788 -0.338458   0.105818 -0.090207  \n",
            "2 -0.890161 -0.793905   0.567268 -0.263106  0.408115   0.967860  0.793384  \n",
            "3 -0.585576 -0.111876  -0.219961  0.448805  0.256881   0.192037  1.241362  \n",
            "4 -0.199787 -0.040407  -0.101162  0.353491  0.040773  -0.167375 -0.059147  \n",
            "\n",
            "[5 rows x 91 columns]\n"
          ]
        }
      ]
    },
    {
      "cell_type": "code",
      "source": [
        "\n",
        "# 4. Feature Interaction: Menggabungkan fitur untuk menangkap hubungan antar fitur\n",
        "# Misalnya mengalikan dua fitur numerik untuk membuat interaksi fitur baru\n",
        "data['interaction'] = data[numeric_features[0]] * data[numeric_features[1]]  # Menambahkan interaksi antara dua fitur pertama\n"
      ],
      "metadata": {
        "id": "bY8S5VLHRs25"
      },
      "execution_count": 14,
      "outputs": []
    },
    {
      "cell_type": "code",
      "source": [
        "print(data.columns)\n"
      ],
      "metadata": {
        "colab": {
          "base_uri": "https://localhost:8080/"
        },
        "id": "xVQU_zqKKHKv",
        "outputId": "ac9903f9-f43a-4b5a-d238-43caa392560c"
      },
      "execution_count": 15,
      "outputs": [
        {
          "output_type": "stream",
          "name": "stdout",
          "text": [
            "Index(['2001', '49.94357', '21.47114', '73.0775', '8.74861', '-17.40628',\n",
            "       '-13.09905', '-25.01202', '-12.23257', '7.83089', '-2.46783', '3.32136',\n",
            "       '-2.31521', '10.20556', '611.10913', '951.0896', '698.11428',\n",
            "       '408.98485', '383.70912', '326.51512', '238.11327', '251.42414',\n",
            "       '187.17351', '100.42652', '179.19498', '-8.41558', '-317.87038',\n",
            "       '95.86266', '48.10259', '-95.66303', '-18.06215', '1.96984', '34.42438',\n",
            "       '11.7267', '1.3679', '7.79444', '-0.36994', '-133.67852', '-83.26165',\n",
            "       '-37.29765', '73.04667', '-37.36684', '-3.13853', '-24.21531',\n",
            "       '-13.23066', '15.93809', '-18.60478', '82.15479', '240.5798',\n",
            "       '-10.29407', '31.58431', '-25.38187', '-3.90772', '13.29258', '41.5506',\n",
            "       '-7.26272', '-21.00863', '105.50848', '64.29856', '26.08481',\n",
            "       '-44.5911', '-8.30657', '7.93706', '-10.7366', '-95.44766', '-82.03307',\n",
            "       '-35.59194', '4.69525', '70.95626', '28.09139', '6.02015', '-37.13767',\n",
            "       '-41.1245', '-8.40816', '7.19877', '-8.60176', '-5.90857', '-12.32437',\n",
            "       '14.68734', '-54.32125', '40.14786', '13.0162', '-54.40548', '58.99367',\n",
            "       '15.37344', '1.11144', '-23.08793', '68.40795', '-1.82223', '-27.46348',\n",
            "       '2.26327', 'interaction'],\n",
            "      dtype='object')\n"
          ]
        }
      ]
    },
    {
      "cell_type": "code",
      "source": [
        "print(data.dtypes)\n"
      ],
      "metadata": {
        "colab": {
          "base_uri": "https://localhost:8080/"
        },
        "id": "FU_5qa8nMb4p",
        "outputId": "9f3fdb9a-4444-4578-89b1-94cda752f35b"
      },
      "execution_count": 16,
      "outputs": [
        {
          "output_type": "stream",
          "name": "stdout",
          "text": [
            "2001           float64\n",
            "49.94357       float64\n",
            "21.47114       float64\n",
            "73.0775        float64\n",
            "8.74861        float64\n",
            "                ...   \n",
            "68.40795       float64\n",
            "-1.82223       float64\n",
            "-27.46348      float64\n",
            "2.26327        float64\n",
            "interaction    float64\n",
            "Length: 92, dtype: object\n"
          ]
        }
      ]
    },
    {
      "cell_type": "code",
      "source": [
        "\n",
        "# 5. Membagi Data untuk Pelatihan dan Pengujian\n",
        "# Gantilah '2001' dengan nama kolom target yang sesuai setelah pemeriksaan\n",
        "X = data.drop('2001', axis=1)  # Ganti '2001' dengan nama kolom target yang sesuai\n",
        "y = data['2001']  # Ganti '2001' dengan nama kolom target yang sesuai\n"
      ],
      "metadata": {
        "id": "vPpZNaQHU2Zy"
      },
      "execution_count": 17,
      "outputs": []
    },
    {
      "cell_type": "code",
      "source": [
        "\n",
        "# Pembagian data menjadi data pelatihan dan data pengujian\n",
        "X_train, X_test, y_train, y_test = train_test_split(X, y, test_size=0.2, random_state=42)\n"
      ],
      "metadata": {
        "id": "sedzCp35U6Vl"
      },
      "execution_count": 18,
      "outputs": []
    },
    {
      "cell_type": "code",
      "source": [
        "# 6. Membuat Model MLP (Multilayer Perceptron)\n",
        "model = Sequential([\n",
        "    Dense(64, activation='relu', input_dim=X_train.shape[1]),  # Input layer\n",
        "    Dense(32, activation='relu'),  # Hidden layer\n",
        "    Dense(1)  # Output layer untuk regresi\n",
        "])"
      ],
      "metadata": {
        "colab": {
          "base_uri": "https://localhost:8080/"
        },
        "id": "xdDIMkYvU9VC",
        "outputId": "4b778c2a-1e9e-4de7-b3e2-038fff51785d"
      },
      "execution_count": 19,
      "outputs": [
        {
          "output_type": "stream",
          "name": "stderr",
          "text": [
            "/usr/local/lib/python3.11/dist-packages/keras/src/layers/core/dense.py:87: UserWarning: Do not pass an `input_shape`/`input_dim` argument to a layer. When using Sequential models, prefer using an `Input(shape)` object as the first layer in the model instead.\n",
            "  super().__init__(activity_regularizer=activity_regularizer, **kwargs)\n"
          ]
        }
      ]
    },
    {
      "cell_type": "code",
      "source": [
        "\n",
        "# Kompilasi model\n",
        "model.compile(optimizer='adam', loss='mean_squared_error')"
      ],
      "metadata": {
        "id": "UiYjfboLVE4f"
      },
      "execution_count": 20,
      "outputs": []
    },
    {
      "cell_type": "code",
      "source": [
        "\n",
        "# 7. Melatih Model dengan 5-10 Epochs\n",
        "model.fit(X_train, y_train, epochs=10, batch_size=32, validation_data=(X_test, y_test))"
      ],
      "metadata": {
        "colab": {
          "base_uri": "https://localhost:8080/"
        },
        "id": "YR-ZdkHWVMV1",
        "outputId": "6074d4cc-d454-488c-dd8f-a9259c42e54a"
      },
      "execution_count": 21,
      "outputs": [
        {
          "output_type": "stream",
          "name": "stdout",
          "text": [
            "Epoch 1/10\n",
            "\u001b[1m12884/12884\u001b[0m \u001b[32m━━━━━━━━━━━━━━━━━━━━\u001b[0m\u001b[37m\u001b[0m \u001b[1m36s\u001b[0m 3ms/step - loss: 0.2996 - val_loss: 0.0486\n",
            "Epoch 2/10\n",
            "\u001b[1m12884/12884\u001b[0m \u001b[32m━━━━━━━━━━━━━━━━━━━━\u001b[0m\u001b[37m\u001b[0m \u001b[1m38s\u001b[0m 3ms/step - loss: 0.0439 - val_loss: 0.0275\n",
            "Epoch 3/10\n",
            "\u001b[1m12884/12884\u001b[0m \u001b[32m━━━━━━━━━━━━━━━━━━━━\u001b[0m\u001b[37m\u001b[0m \u001b[1m42s\u001b[0m 3ms/step - loss: 0.0318 - val_loss: 0.0267\n",
            "Epoch 4/10\n",
            "\u001b[1m12884/12884\u001b[0m \u001b[32m━━━━━━━━━━━━━━━━━━━━\u001b[0m\u001b[37m\u001b[0m \u001b[1m37s\u001b[0m 3ms/step - loss: 0.0273 - val_loss: 0.0241\n",
            "Epoch 5/10\n",
            "\u001b[1m12884/12884\u001b[0m \u001b[32m━━━━━━━━━━━━━━━━━━━━\u001b[0m\u001b[37m\u001b[0m \u001b[1m41s\u001b[0m 3ms/step - loss: 0.0246 - val_loss: 0.0228\n",
            "Epoch 6/10\n",
            "\u001b[1m12884/12884\u001b[0m \u001b[32m━━━━━━━━━━━━━━━━━━━━\u001b[0m\u001b[37m\u001b[0m \u001b[1m32s\u001b[0m 3ms/step - loss: 0.0229 - val_loss: 0.0199\n",
            "Epoch 7/10\n",
            "\u001b[1m12884/12884\u001b[0m \u001b[32m━━━━━━━━━━━━━━━━━━━━\u001b[0m\u001b[37m\u001b[0m \u001b[1m47s\u001b[0m 3ms/step - loss: 0.0208 - val_loss: 0.0199\n",
            "Epoch 8/10\n",
            "\u001b[1m12884/12884\u001b[0m \u001b[32m━━━━━━━━━━━━━━━━━━━━\u001b[0m\u001b[37m\u001b[0m \u001b[1m32s\u001b[0m 2ms/step - loss: 0.0201 - val_loss: 0.0212\n",
            "Epoch 9/10\n",
            "\u001b[1m12884/12884\u001b[0m \u001b[32m━━━━━━━━━━━━━━━━━━━━\u001b[0m\u001b[37m\u001b[0m \u001b[1m48s\u001b[0m 3ms/step - loss: 0.0193 - val_loss: 0.0174\n",
            "Epoch 10/10\n",
            "\u001b[1m12884/12884\u001b[0m \u001b[32m━━━━━━━━━━━━━━━━━━━━\u001b[0m\u001b[37m\u001b[0m \u001b[1m38s\u001b[0m 3ms/step - loss: 0.0177 - val_loss: 0.0219\n"
          ]
        },
        {
          "output_type": "execute_result",
          "data": {
            "text/plain": [
              "<keras.src.callbacks.history.History at 0x78dbc7f91dd0>"
            ]
          },
          "metadata": {},
          "execution_count": 21
        }
      ]
    },
    {
      "cell_type": "code",
      "source": [
        "# 8. Evaluasi Model Regresi\n",
        "from sklearn.metrics import mean_squared_error, r2_score"
      ],
      "metadata": {
        "id": "ooBq2kowg1zz"
      },
      "execution_count": 22,
      "outputs": []
    },
    {
      "cell_type": "code",
      "source": [
        "# Prediksi dengan model\n",
        "y_pred = model.predict(X_test)"
      ],
      "metadata": {
        "colab": {
          "base_uri": "https://localhost:8080/"
        },
        "id": "-X0tN_yVgJ4a",
        "outputId": "1c4418b4-8fd0-4a04-df01-f127a23ccee1"
      },
      "execution_count": 23,
      "outputs": [
        {
          "output_type": "stream",
          "name": "stdout",
          "text": [
            "\u001b[1m3221/3221\u001b[0m \u001b[32m━━━━━━━━━━━━━━━━━━━━\u001b[0m\u001b[37m\u001b[0m \u001b[1m4s\u001b[0m 1ms/step\n"
          ]
        }
      ]
    },
    {
      "cell_type": "code",
      "source": [
        "# Metrik Evaluasi: RMSE, MSE, R-squared\n",
        "rmse = np.sqrt(mean_squared_error(y_test, y_pred))\n",
        "mse = mean_squared_error(y_test, y_pred)\n",
        "r2 = r2_score(y_test, y_pred)\n",
        "print(f\"RMSE: {rmse}, MSE: {mse}, R-Squared: {r2}\")"
      ],
      "metadata": {
        "colab": {
          "base_uri": "https://localhost:8080/"
        },
        "id": "CZ9N_kBOVV4s",
        "outputId": "fa179c00-4324-4e88-c8ee-5d3b0e95c4bb"
      },
      "execution_count": 24,
      "outputs": [
        {
          "output_type": "stream",
          "name": "stdout",
          "text": [
            "RMSE: 0.1481271473709038, MSE: 0.021941651788241447, R-Squared: 0.9779103918567804\n"
          ]
        }
      ]
    },
    {
      "cell_type": "code",
      "source": [
        "# 9. Mengubah Prediksi Regresi menjadi Klasifikasi (misalnya, nilai prediksi > 0 menjadi kelas 1, sisanya kelas 0)\n",
        "y_pred_class = (y_pred > 0).astype(int)  # Ganti 0 dengan threshold yang sesuai\n"
      ],
      "metadata": {
        "id": "EIoSAb87YqCN"
      },
      "execution_count": 25,
      "outputs": []
    },
    {
      "cell_type": "code",
      "source": [
        "# 10. Mengubah y_test menjadi kelas biner sesuai threshold yang sama\n",
        "y_test_class = (y_test > 0).astype(int)  # Ganti 0 dengan threshold yang sesuai\n"
      ],
      "metadata": {
        "id": "Xdwd5-dfgDRs"
      },
      "execution_count": 26,
      "outputs": []
    },
    {
      "cell_type": "code",
      "source": [
        "# 11. Menghitung Metrik Klasifikasi\n",
        "accuracy = accuracy_score(y_test_class, y_pred_class)\n",
        "precision = precision_score(y_test_class, y_pred_class)\n",
        "recall = recall_score(y_test_class, y_pred_class)\n",
        "f1 = f1_score(y_test_class, y_pred_class)"
      ],
      "metadata": {
        "id": "2zQCQ9rrZ5z6"
      },
      "execution_count": 27,
      "outputs": []
    },
    {
      "cell_type": "code",
      "source": [
        "# AUC-ROC hanya berlaku jika model memberikan probabilitas, bukan biner. Jika ingin menggunakan AUC, perlu ubah model ke klasifikasi probabilistik.\n",
        "try:\n",
        "    roc_auc = roc_auc_score(y_test_class, y_pred_class)\n",
        "except:\n",
        "    roc_auc = 'N/A'  # Jika gagal (karena model regresi menghasilkan nilai kontinu)"
      ],
      "metadata": {
        "id": "2JRIMUwWlIfy"
      },
      "execution_count": 28,
      "outputs": []
    },
    {
      "cell_type": "code",
      "source": [
        "\n",
        "# Menampilkan hasil evaluasi klasifikasi\n",
        "print(f\"Accuracy: {accuracy}\")\n",
        "print(f\"Precision: {precision}\")\n",
        "print(f\"Recall: {recall}\")\n",
        "print(f\"F1-Score: {f1}\")\n",
        "print(f\"AUC-ROC: {roc_auc}\")"
      ],
      "metadata": {
        "colab": {
          "base_uri": "https://localhost:8080/"
        },
        "id": "5UO38HTwlO0V",
        "outputId": "9c3d5f21-3932-4936-827c-f88f6dea2a2f"
      },
      "execution_count": 29,
      "outputs": [
        {
          "output_type": "stream",
          "name": "stdout",
          "text": [
            "Accuracy: 0.9742114505816492\n",
            "Precision: 0.9680660743037748\n",
            "Recall: 0.9921161191749427\n",
            "F1-Score: 0.9799435582451745\n",
            "AUC-ROC: 0.9675884032967671\n"
          ]
        }
      ]
    },
    {
      "cell_type": "code",
      "source": [
        "# 12. Visualisasi Hasil Evaluasi Klasifikasi dalam Grafik\n",
        "metrics = {'Accuracy': accuracy, 'Precision': precision, 'Recall': recall, 'F1-Score': f1, 'AUC-ROC': roc_auc}"
      ],
      "metadata": {
        "id": "NaDGX1XklTvW"
      },
      "execution_count": 30,
      "outputs": []
    },
    {
      "cell_type": "code",
      "source": [
        "# Membuat grafik bar untuk metrik\n",
        "plt.figure(figsize=(10, 6))\n",
        "plt.bar(metrics.keys(), metrics.values(), color='skyblue')\n",
        "plt.xlabel('Metrik')\n",
        "plt.ylabel('Nilai')\n",
        "plt.title('Evaluasi Klasifikasi Model')\n",
        "plt.show()"
      ],
      "metadata": {
        "colab": {
          "base_uri": "https://localhost:8080/",
          "height": 424
        },
        "id": "68_Zwk0zlVc1",
        "outputId": "43726581-d26a-4326-996d-a7f604c5e49e"
      },
      "execution_count": 31,
      "outputs": [
        {
          "output_type": "display_data",
          "data": {
            "text/plain": [
              "<Figure size 1000x600 with 1 Axes>"
            ],
            "image/png": "[encoded data removed]"
          },
          "metadata": {}
        }
      ]
    },
    {
      "cell_type": "code",
      "source": [
        "\n",
        "# 13. Visualisasi Prediksi vs Aktual\n",
        "plt.figure(figsize=(8, 6))\n",
        "plt.scatter(y_test, y_pred, color='blue')\n",
        "plt.plot([min(y_test), max(y_test)], [min(y_test), max(y_test)], color='red', linestyle='--')\n",
        "plt.xlabel(\"Actual\")\n",
        "plt.ylabel(\"Predicted\")\n",
        "plt.title(\"Actual vs Predicted Values\")\n",
        "plt.show()"
      ],
      "metadata": {
        "colab": {
          "base_uri": "https://localhost:8080/",
          "height": 516
        },
        "id": "qI5-X_U7lXX1",
        "outputId": "7f4c863c-5f73-4800-a1da-b33c3d7c34a1"
      },
      "execution_count": 32,
      "outputs": [
        {
          "output_type": "display_data",
          "data": {
            "text/plain": [
              "<Figure size 800x600 with 1 Axes>"
            ],
            "image/png": "[encoded data removed]"
          },
          "metadata": {}
        }
      ]
    },
    {
      "cell_type": "code",
      "source": [
        "# Menghitung confusion matrix\n",
        "cm = confusion_matrix(y_test_class, y_pred_class)"
      ],
      "metadata": {
        "id": "LZWZk7VDzBhK"
      },
      "execution_count": 34,
      "outputs": []
    },
    {
      "cell_type": "code",
      "source": [
        "# Menampilkan confusion matrix dalam bentuk heatmap\n",
        "plt.figure(figsize=(8, 6))\n",
        "sns.heatmap(cm, annot=True, fmt=\"d\", cmap=\"Blues\", xticklabels=[\"Class 0\", \"Class 1\"], yticklabels=[\"Class 0\", \"Class 1\"])\n",
        "plt.xlabel(\"Predicted\")\n",
        "plt.ylabel(\"Actual\")\n",
        "plt.title(\"Confusion Matrix\")\n",
        "plt.show()"
      ],
      "metadata": {
        "colab": {
          "base_uri": "https://localhost:8080/",
          "height": 534
        },
        "id": "GNgQGANAzF8C",
        "outputId": "c6b1da3d-8f6e-4659-8288-b173b30e97e6"
      },
      "execution_count": 35,
      "outputs": [
        {
          "output_type": "display_data",
          "data": {
            "text/plain": [
              "<Figure size 800x600 with 2 Axes>"
            ],
            "image/png": "[encoded data removed]"
          },
          "metadata": {}
        }
      ]
    }
  ]
}