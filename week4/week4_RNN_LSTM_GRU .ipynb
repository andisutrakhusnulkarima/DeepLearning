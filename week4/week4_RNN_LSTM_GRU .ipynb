{
  "nbformat": 4,
  "nbformat_minor": 0,
  "metadata": {
    "colab": {
      "provenance": [],
      "gpuType": "T4",
      "authorship_tag": "ABX9TyPBVFQRuom3Se3V/ERgNMaQ",
      "include_colab_link": true
    },
    "kernelspec": {
      "name": "python3",
      "display_name": "Python 3"
    },
    "language_info": {
      "name": "python"
    },
    "accelerator": "GPU"
  },
  "cells": [
    {
      "cell_type": "markdown",
      "metadata": {
        "id": "view-in-github",
        "colab_type": "text"
      },
      "source": [
        "<a href=\"https://colab.research.google.com/github/andisutrakhusnulkarima/DeepLearning/blob/main/week4/week4_RNN_LSTM_GRU%20.ipynb\" target=\"_parent\"><img src=\"https://colab.research.google.com/assets/colab-badge.svg\" alt=\"Open In Colab\"/></a>"
      ]
    },
    {
      "cell_type": "markdown",
      "source": [
        "WEEK 4\n",
        "1. Buat model Deep learning (PyTorch and Tensorflow). datasets import imdb, gunakan num_words = 30.000 - 50000 dan maxlen = 300 - 500. buat Kompleks model dengan banyak layer dan neuron.\n",
        "2. Gunakan Matriks Evaluasi (Akurasi,Presisi,Recall,F1Squared, AUC, ROC). Visualisasikan matriks akurasi dan loss.\n",
        "3. Beri penjelasan untuk setiap persamaan matematika yang ada.\n",
        "4. Disarankan untuk mengerjakan tugas menggunakan Google Colab. Coba gunakan Google Colab dengan\n",
        "     T4 GPU atau TPU agar proses pelatihan model menjadi lebih cepat.\n",
        "5. Bandingkan hasil models RNN, LSTM, dan GRU. Buatlah analisa di format pdf"
      ],
      "metadata": {
        "id": "7fkUj-CMy8qF"
      }
    },
    {
      "cell_type": "code",
      "execution_count": 1,
      "metadata": {
        "id": "aRmkGBgbjo7V"
      },
      "outputs": [],
      "source": [
        "# Impor pustaka yang diperlukan\n",
        "import torch\n",
        "import torch.nn as nn\n",
        "import torch.optim as optim\n",
        "import tensorflow as tf\n",
        "from tensorflow.keras.models import Sequential\n",
        "from tensorflow.keras.layers import Embedding, SimpleRNN, LSTM, GRU, Dense\n",
        "from tensorflow.keras.optimizers import Adam\n",
        "from keras.datasets import imdb\n",
        "from tensorflow.keras.preprocessing.sequence import pad_sequences\n",
        "from sklearn.metrics import accuracy_score, precision_score, recall_score, f1_score, roc_auc_score, roc_curve\n",
        "import matplotlib.pyplot as plt\n"
      ]
    },
    {
      "cell_type": "code",
      "source": [
        "\n",
        "# Memuat dataset IMDb (num_words=50000 dan maxlen=500)\n",
        "(x_train, y_train), (x_test, y_test) = imdb.load_data(num_words=50000, maxlen=500)\n"
      ],
      "metadata": {
        "colab": {
          "base_uri": "https://localhost:8080/"
        },
        "id": "XkoqXgp2kFTx",
        "outputId": "500df8c5-e4ee-4a03-84a9-a53dd73d3190"
      },
      "execution_count": 2,
      "outputs": [
        {
          "output_type": "stream",
          "name": "stdout",
          "text": [
            "Downloading data from https://storage.googleapis.com/tensorflow/tf-keras-datasets/imdb.npz\n",
            "\u001b[1m17464789/17464789\u001b[0m \u001b[32m━━━━━━━━━━━━━━━━━━━━\u001b[0m\u001b[37m\u001b[0m \u001b[1m0s\u001b[0m 0us/step\n"
          ]
        }
      ]
    },
    {
      "cell_type": "code",
      "source": [
        "# Padding untuk memastikan semua urutan input memiliki panjang yang sama\n",
        "x_train = pad_sequences(x_train, maxlen=500)\n",
        "x_test = pad_sequences(x_test, maxlen=500)"
      ],
      "metadata": {
        "id": "g6xVk9R3mUG0"
      },
      "execution_count": 3,
      "outputs": []
    },
    {
      "cell_type": "code",
      "source": [
        "# ==============================\n",
        "# Model LSTM dengan TensorFlow\n",
        "# ==============================\n",
        "model_lstm = tf.keras.Sequential([\n",
        "    Embedding(input_dim=50000, output_dim=128, input_length=500),\n",
        "    LSTM(128, return_sequences=True),\n",
        "    LSTM(64),\n",
        "    Dense(64, activation='relu'),\n",
        "    Dense(1, activation='sigmoid')\n",
        "])\n",
        "\n",
        "model_lstm.compile(optimizer=Adam(), loss='binary_crossentropy', metrics=['accuracy'])\n"
      ],
      "metadata": {
        "colab": {
          "base_uri": "https://localhost:8080/"
        },
        "id": "wY95-CwemWEz",
        "outputId": "11b354eb-0e08-485e-d6af-9a8461799742"
      },
      "execution_count": 4,
      "outputs": [
        {
          "output_type": "stream",
          "name": "stderr",
          "text": [
            "/usr/local/lib/python3.11/dist-packages/keras/src/layers/core/embedding.py:90: UserWarning: Argument `input_length` is deprecated. Just remove it.\n",
            "  warnings.warn(\n"
          ]
        }
      ]
    },
    {
      "cell_type": "code",
      "source": [
        "\n",
        "# Melatih model LSTM\n",
        "history_lstm = model_lstm.fit(x_train, y_train, epochs=5, batch_size=64, validation_data=(x_test, y_test))\n"
      ],
      "metadata": {
        "colab": {
          "base_uri": "https://localhost:8080/"
        },
        "id": "3x-fMKFkmYoD",
        "outputId": "62fa67df-73db-49a0-98cb-bb91a90e4465"
      },
      "execution_count": 5,
      "outputs": [
        {
          "output_type": "stream",
          "name": "stdout",
          "text": [
            "Epoch 1/5\n",
            "\u001b[1m358/358\u001b[0m \u001b[32m━━━━━━━━━━━━━━━━━━━━\u001b[0m\u001b[37m\u001b[0m \u001b[1m28s\u001b[0m 60ms/step - accuracy: 0.7246 - loss: 0.5195 - val_accuracy: 0.8586 - val_loss: 0.3260\n",
            "Epoch 2/5\n",
            "\u001b[1m358/358\u001b[0m \u001b[32m━━━━━━━━━━━━━━━━━━━━\u001b[0m\u001b[37m\u001b[0m \u001b[1m43s\u001b[0m 72ms/step - accuracy: 0.9253 - loss: 0.2022 - val_accuracy: 0.8687 - val_loss: 0.3156\n",
            "Epoch 3/5\n",
            "\u001b[1m358/358\u001b[0m \u001b[32m━━━━━━━━━━━━━━━━━━━━\u001b[0m\u001b[37m\u001b[0m \u001b[1m41s\u001b[0m 72ms/step - accuracy: 0.9664 - loss: 0.1049 - val_accuracy: 0.8486 - val_loss: 0.4536\n",
            "Epoch 4/5\n",
            "\u001b[1m358/358\u001b[0m \u001b[32m━━━━━━━━━━━━━━━━━━━━\u001b[0m\u001b[37m\u001b[0m \u001b[1m41s\u001b[0m 72ms/step - accuracy: 0.9774 - loss: 0.0694 - val_accuracy: 0.8557 - val_loss: 0.4269\n",
            "Epoch 5/5\n",
            "\u001b[1m358/358\u001b[0m \u001b[32m━━━━━━━━━━━━━━━━━━━━\u001b[0m\u001b[37m\u001b[0m \u001b[1m41s\u001b[0m 72ms/step - accuracy: 0.9907 - loss: 0.0329 - val_accuracy: 0.8486 - val_loss: 0.5626\n"
          ]
        }
      ]
    },
    {
      "cell_type": "code",
      "source": [
        "# Evaluasi model LSTM\n",
        "y_pred_lstm = model_lstm.predict(x_test)\n",
        "y_pred_lstm_bin = (y_pred_lstm > 0.5).astype(int)\n"
      ],
      "metadata": {
        "colab": {
          "base_uri": "https://localhost:8080/"
        },
        "id": "Y4bBjCXwmbIl",
        "outputId": "8fc5bb3e-3d49-4202-eb51-65cf3846032a"
      },
      "execution_count": 6,
      "outputs": [
        {
          "output_type": "stream",
          "name": "stdout",
          "text": [
            "\u001b[1m721/721\u001b[0m \u001b[32m━━━━━━━━━━━━━━━━━━━━\u001b[0m\u001b[37m\u001b[0m \u001b[1m10s\u001b[0m 14ms/step\n"
          ]
        }
      ]
    },
    {
      "cell_type": "code",
      "source": [
        "# ==============================\n",
        "# Model GRU dengan TensorFlow\n",
        "# ==============================\n",
        "model_gru = tf.keras.Sequential([\n",
        "    Embedding(input_dim=50000, output_dim=128, input_length=500),\n",
        "    GRU(128, return_sequences=True),\n",
        "    GRU(64),\n",
        "    Dense(64, activation='relu'),\n",
        "    Dense(1, activation='sigmoid')\n",
        "])\n",
        "\n",
        "model_gru.compile(optimizer=Adam(), loss='binary_crossentropy', metrics=['accuracy'])\n"
      ],
      "metadata": {
        "id": "nKG52oLDmd5q"
      },
      "execution_count": 7,
      "outputs": []
    },
    {
      "cell_type": "code",
      "source": [
        "# Melatih model GRU\n",
        "history_gru = model_gru.fit(x_train, y_train, epochs=5, batch_size=64, validation_data=(x_test, y_test))\n"
      ],
      "metadata": {
        "colab": {
          "base_uri": "https://localhost:8080/"
        },
        "id": "X_omMQefmhuP",
        "outputId": "463a0bb8-4f1a-4362-fe68-fdc03b55983d"
      },
      "execution_count": 8,
      "outputs": [
        {
          "output_type": "stream",
          "name": "stdout",
          "text": [
            "Epoch 1/5\n",
            "\u001b[1m358/358\u001b[0m \u001b[32m━━━━━━━━━━━━━━━━━━━━\u001b[0m\u001b[37m\u001b[0m \u001b[1m24s\u001b[0m 59ms/step - accuracy: 0.6839 - loss: 0.5553 - val_accuracy: 0.8581 - val_loss: 0.3458\n",
            "Epoch 2/5\n",
            "\u001b[1m358/358\u001b[0m \u001b[32m━━━━━━━━━━━━━━━━━━━━\u001b[0m\u001b[37m\u001b[0m \u001b[1m20s\u001b[0m 57ms/step - accuracy: 0.9214 - loss: 0.2139 - val_accuracy: 0.8542 - val_loss: 0.3368\n",
            "Epoch 3/5\n",
            "\u001b[1m358/358\u001b[0m \u001b[32m━━━━━━━━━━━━━━━━━━━━\u001b[0m\u001b[37m\u001b[0m \u001b[1m21s\u001b[0m 57ms/step - accuracy: 0.9617 - loss: 0.1127 - val_accuracy: 0.8573 - val_loss: 0.4219\n",
            "Epoch 4/5\n",
            "\u001b[1m358/358\u001b[0m \u001b[32m━━━━━━━━━━━━━━━━━━━━\u001b[0m\u001b[37m\u001b[0m \u001b[1m25s\u001b[0m 70ms/step - accuracy: 0.9843 - loss: 0.0507 - val_accuracy: 0.8613 - val_loss: 0.4459\n",
            "Epoch 5/5\n",
            "\u001b[1m358/358\u001b[0m \u001b[32m━━━━━━━━━━━━━━━━━━━━\u001b[0m\u001b[37m\u001b[0m \u001b[1m41s\u001b[0m 70ms/step - accuracy: 0.9916 - loss: 0.0273 - val_accuracy: 0.8529 - val_loss: 0.4713\n"
          ]
        }
      ]
    },
    {
      "cell_type": "code",
      "source": [
        "# Evaluasi model GRU\n",
        "y_pred_gru = model_gru.predict(x_test)\n",
        "y_pred_gru_bin = (y_pred_gru > 0.5).astype(int)"
      ],
      "metadata": {
        "colab": {
          "base_uri": "https://localhost:8080/"
        },
        "id": "EPuLJW2Umjks",
        "outputId": "b3986de1-2e17-4233-c60a-3e0649f70436"
      },
      "execution_count": 9,
      "outputs": [
        {
          "output_type": "stream",
          "name": "stdout",
          "text": [
            "\u001b[1m721/721\u001b[0m \u001b[32m━━━━━━━━━━━━━━━━━━━━\u001b[0m\u001b[37m\u001b[0m \u001b[1m10s\u001b[0m 13ms/step\n"
          ]
        }
      ]
    },
    {
      "cell_type": "code",
      "source": [
        "# ==============================\n",
        "# Model RNN dengan TensorFlow\n",
        "# ==============================\n",
        "model_rnn = tf.keras.Sequential([\n",
        "    Embedding(input_dim=50000, output_dim=128, input_length=500),\n",
        "    SimpleRNN(128, return_sequences=True),\n",
        "    SimpleRNN(64),\n",
        "    Dense(64, activation='relu'),\n",
        "    Dense(1, activation='sigmoid')\n",
        "])\n",
        "\n",
        "model_rnn.compile(optimizer=Adam(), loss='binary_crossentropy', metrics=['accuracy'])\n"
      ],
      "metadata": {
        "id": "tinkLZ1Kml0l"
      },
      "execution_count": 10,
      "outputs": []
    },
    {
      "cell_type": "code",
      "source": [
        "# Melatih model RNN\n",
        "history_rnn = model_rnn.fit(x_train, y_train, epochs=5, batch_size=64, validation_data=(x_test, y_test))\n"
      ],
      "metadata": {
        "colab": {
          "base_uri": "https://localhost:8080/"
        },
        "id": "-KJyvF05mobF",
        "outputId": "e87f83ca-8c61-4cca-adb6-a2e41c4bfe10"
      },
      "execution_count": 11,
      "outputs": [
        {
          "output_type": "stream",
          "name": "stdout",
          "text": [
            "Epoch 1/5\n",
            "\u001b[1m358/358\u001b[0m \u001b[32m━━━━━━━━━━━━━━━━━━━━\u001b[0m\u001b[37m\u001b[0m \u001b[1m41s\u001b[0m 100ms/step - accuracy: 0.5457 - loss: 0.6860 - val_accuracy: 0.5350 - val_loss: 0.8565\n",
            "Epoch 2/5\n",
            "\u001b[1m358/358\u001b[0m \u001b[32m━━━━━━━━━━━━━━━━━━━━\u001b[0m\u001b[37m\u001b[0m \u001b[1m36s\u001b[0m 101ms/step - accuracy: 0.7491 - loss: 0.5279 - val_accuracy: 0.5040 - val_loss: 0.6988\n",
            "Epoch 3/5\n",
            "\u001b[1m358/358\u001b[0m \u001b[32m━━━━━━━━━━━━━━━━━━━━\u001b[0m\u001b[37m\u001b[0m \u001b[1m41s\u001b[0m 101ms/step - accuracy: 0.6221 - loss: 0.6633 - val_accuracy: 0.5788 - val_loss: 0.6514\n",
            "Epoch 4/5\n",
            "\u001b[1m358/358\u001b[0m \u001b[32m━━━━━━━━━━━━━━━━━━━━\u001b[0m\u001b[37m\u001b[0m \u001b[1m38s\u001b[0m 92ms/step - accuracy: 0.7650 - loss: 0.5022 - val_accuracy: 0.7878 - val_loss: 0.4847\n",
            "Epoch 5/5\n",
            "\u001b[1m358/358\u001b[0m \u001b[32m━━━━━━━━━━━━━━━━━━━━\u001b[0m\u001b[37m\u001b[0m \u001b[1m36s\u001b[0m 101ms/step - accuracy: 0.8955 - loss: 0.2594 - val_accuracy: 0.8434 - val_loss: 0.3780\n"
          ]
        }
      ]
    },
    {
      "cell_type": "code",
      "source": [
        "# Evaluasi model RNN\n",
        "y_pred_rnn = model_rnn.predict(x_test)\n",
        "y_pred_rnn_bin = (y_pred_rnn > 0.5).astype(int)\n"
      ],
      "metadata": {
        "colab": {
          "base_uri": "https://localhost:8080/"
        },
        "id": "uw8JCsRDmqf4",
        "outputId": "af6212da-8eb4-480d-8304-6476f2ed916a"
      },
      "execution_count": 12,
      "outputs": [
        {
          "output_type": "stream",
          "name": "stdout",
          "text": [
            "\u001b[1m721/721\u001b[0m \u001b[32m━━━━━━━━━━━━━━━━━━━━\u001b[0m\u001b[37m\u001b[0m \u001b[1m15s\u001b[0m 20ms/step\n"
          ]
        }
      ]
    },
    {
      "cell_type": "code",
      "source": [
        "\n",
        "# ==============================\n",
        "# Calculate evaluation metrics for each model\n",
        "metrics = {}\n",
        "\n",
        "for model_name, y_pred_bin in [('RNN', y_pred_rnn_bin), ('LSTM', y_pred_lstm_bin), ('GRU', y_pred_gru_bin)]:\n",
        "    accuracy = accuracy_score(y_test, y_pred_bin)\n",
        "    precision = precision_score(y_test, y_pred_bin)\n",
        "    recall = recall_score(y_test, y_pred_bin)\n",
        "    f1 = f1_score(y_test, y_pred_bin)\n",
        "    auc = roc_auc_score(y_test, y_pred_bin)\n",
        "    fpr, tpr, thresholds = roc_curve(y_test, y_pred_bin)\n",
        "\n",
        "    metrics[model_name] = {\n",
        "        'accuracy': accuracy,\n",
        "        'precision': precision,\n",
        "        'recall': recall,\n",
        "        'f1_score': f1,\n",
        "        'auc': auc,\n",
        "        'fpr': fpr,\n",
        "        'tpr': tpr\n",
        "    }\n",
        "\n",
        "    # Display the evaluation metrics for each model\n",
        "    print(f\"{model_name} Model Metrics:\")\n",
        "    print(f\"Akurasi: {accuracy}\")\n",
        "    print(f\"Presisi: {precision}\")\n",
        "    print(f\"Recall: {recall}\")\n",
        "    print(f\"F1 Score: {f1}\")\n",
        "    print(f\"AUC: {auc}\")\n",
        "    print()\n",
        "\n",
        "    # Plot ROC Curve for each model\n",
        "    plt.plot(fpr, tpr, label=f'{model_name} ROC curve')\n",
        "    plt.xlabel('False Positive Rate')\n",
        "    plt.ylabel('True Positive Rate')\n",
        "    plt.title(f'Receiver Operating Characteristic (ROC) - {model_name}')\n",
        "    plt.legend()\n",
        "    plt.show()"
      ],
      "metadata": {
        "colab": {
          "base_uri": "https://localhost:8080/",
          "height": 1000
        },
        "id": "267Ai2vxmuEu",
        "outputId": "2cdabd4f-ce08-4ad5-d9d7-5f565a994503"
      },
      "execution_count": 13,
      "outputs": [
        {
          "output_type": "stream",
          "name": "stdout",
          "text": [
            "RNN Model Metrics:\n",
            "Akurasi: 0.8434424452633861\n",
            "Presisi: 0.8783445620789221\n",
            "Recall: 0.7954327551642988\n",
            "F1 Score: 0.834835109545808\n",
            "AUC: 0.8431960187139644\n",
            "\n"
          ]
        },
        {
          "output_type": "display_data",
          "data": {
            "text/plain": [
              "<Figure size 640x480 with 1 Axes>"
            ],
            "image/png": "[encoded data removed]"
          },
          "metadata": {}
        },
        {
          "output_type": "stream",
          "name": "stdout",
          "text": [
            "LSTM Model Metrics:\n",
            "Akurasi: 0.8486017775850856\n",
            "Presisi: 0.841623148703022\n",
            "Recall: 0.8568813736598971\n",
            "F1 Score: 0.8491837263539778\n",
            "AUC: 0.8486442755117981\n",
            "\n"
          ]
        },
        {
          "output_type": "display_data",
          "data": {
            "text/plain": [
              "<Figure size 640x480 with 1 Axes>"
            ],
            "image/png": "[encoded data removed]"
          },
          "metadata": {}
        },
        {
          "output_type": "stream",
          "name": "stdout",
          "text": [
            "GRU Model Metrics:\n",
            "Akurasi: 0.852937350964665\n",
            "Presisi: 0.8494335380091672\n",
            "Recall: 0.8560969232110172\n",
            "F1 Score: 0.8527522139260288\n",
            "AUC: 0.8529535685758329\n",
            "\n"
          ]
        },
        {
          "output_type": "display_data",
          "data": {
            "text/plain": [
              "<Figure size 640x480 with 1 Axes>"
            ],
            "image/png": "[encoded data removed]"
          },
          "metadata": {}
        }
      ]
    },
    {
      "cell_type": "markdown",
      "source": [
        "**Penjelasan untuk Persamaan Matematika**\n",
        "Berikut adalah penjelasan mengenai beberapa komponen utama dalam model yang digunakan:\n",
        "\n",
        "Persamaan LSTM, GRU, dan RNN:\n",
        "\n",
        "\n",
        "\n",
        "Model-model tersebut termasuk dalam jenis Recurrent Neural Networks (RNN). Pada dasarnya, mereka digunakan untuk memproses urutan data (seperti teks atau urutan waktu).\n",
        "\n",
        "LSTM (Long Short-Term Memory):\n",
        "\n",
        "LSTM menggunakan tiga gerbang utama untuk memodifikasi keadaan memori:\n",
        "\n",
        "Forget Gate: Mengatur bagian dari informasi sebelumnya yang harus \"dilupakan\".\n",
        "\n",
        "Input Gate: Memutuskan informasi baru yang akan dimasukkan ke dalam memori.\n",
        "\n",
        "Output Gate: Menentukan informasi mana yang akan diekstrak dari memori dan dikirim ke output.\n",
        "\n",
        "Persamaan LSTM:\n",
        "\n",
        "Forget Gate:\n",
        "\n",
        "𝑓\n",
        "𝑡\n",
        "=\n",
        "𝜎\n",
        "(\n",
        "𝑊\n",
        "𝑓\n",
        "⋅\n",
        "[\n",
        "ℎ\n",
        "𝑡\n",
        "−\n",
        "1\n",
        ",\n",
        "𝑥\n",
        "𝑡\n",
        "]\n",
        "+\n",
        "𝑏\n",
        "𝑓\n",
        ")\n",
        "f\n",
        "t\n",
        "​\n",
        " =σ(W\n",
        "f\n",
        "​\n",
        " ⋅[h\n",
        "t−1\n",
        "​\n",
        " ,x\n",
        "t\n",
        "​\n",
        " ]+b\n",
        "f\n",
        "​\n",
        " )\n",
        "Input Gate:\n",
        "\n",
        "𝑖\n",
        "𝑡\n",
        "=\n",
        "𝜎\n",
        "(\n",
        "𝑊\n",
        "𝑖\n",
        "⋅\n",
        "[\n",
        "ℎ\n",
        "𝑡\n",
        "−\n",
        "1\n",
        ",\n",
        "𝑥\n",
        "𝑡\n",
        "]\n",
        "+\n",
        "𝑏\n",
        "𝑖\n",
        ")\n",
        "i\n",
        "t\n",
        "​\n",
        " =σ(W\n",
        "i\n",
        "​\n",
        " ⋅[h\n",
        "t−1\n",
        "​\n",
        " ,x\n",
        "t\n",
        "​\n",
        " ]+b\n",
        "i\n",
        "​\n",
        " )\n",
        "𝐶\n",
        "~\n",
        "𝑡\n",
        "=\n",
        "tanh\n",
        "⁡\n",
        "(\n",
        "𝑊\n",
        "𝐶\n",
        "⋅\n",
        "[\n",
        "ℎ\n",
        "𝑡\n",
        "−\n",
        "1\n",
        ",\n",
        "𝑥\n",
        "𝑡\n",
        "]\n",
        "+\n",
        "𝑏\n",
        "𝐶\n",
        ")\n",
        "C\n",
        "~\n",
        "  \n",
        "t\n",
        "​\n",
        " =tanh(W\n",
        "C\n",
        "​\n",
        " ⋅[h\n",
        "t−1\n",
        "​\n",
        " ,x\n",
        "t\n",
        "​\n",
        " ]+b\n",
        "C\n",
        "​\n",
        " )\n",
        "Output Gate:\n",
        "\n",
        "𝑜\n",
        "𝑡\n",
        "=\n",
        "𝜎\n",
        "(\n",
        "𝑊\n",
        "𝑜\n",
        "⋅\n",
        "[\n",
        "ℎ\n",
        "𝑡\n",
        "−\n",
        "1\n",
        ",\n",
        "𝑥\n",
        "𝑡\n",
        "]\n",
        "+\n",
        "𝑏\n",
        "𝑜\n",
        ")\n",
        "o\n",
        "t\n",
        "​\n",
        " =σ(W\n",
        "o\n",
        "​\n",
        " ⋅[h\n",
        "t−1\n",
        "​\n",
        " ,x\n",
        "t\n",
        "​\n",
        " ]+b\n",
        "o\n",
        "​\n",
        " )\n",
        "Memori:\n",
        "\n",
        "𝐶\n",
        "𝑡\n",
        "=\n",
        "𝑓\n",
        "𝑡\n",
        "⋅\n",
        "𝐶\n",
        "𝑡\n",
        "−\n",
        "1\n",
        "+\n",
        "𝑖\n",
        "𝑡\n",
        "⋅\n",
        "𝐶\n",
        "~\n",
        "𝑡\n",
        "C\n",
        "t\n",
        "​\n",
        " =f\n",
        "t\n",
        "​\n",
        " ⋅C\n",
        "t−1\n",
        "​\n",
        " +i\n",
        "t\n",
        "​\n",
        " ⋅\n",
        "C\n",
        "~\n",
        "  \n",
        "t\n",
        "​\n",
        "\n",
        "Output:\n",
        "\n",
        "ℎ\n",
        "𝑡\n",
        "=\n",
        "𝑜\n",
        "𝑡\n",
        "⋅\n",
        "tanh\n",
        "⁡\n",
        "(\n",
        "𝐶\n",
        "𝑡\n",
        ")\n",
        "h\n",
        "t\n",
        "​\n",
        " =o\n",
        "t\n",
        "​\n",
        " ⋅tanh(C\n",
        "t\n",
        "​\n",
        " )\n",
        "GRU (Gated Recurrent Unit):\n",
        "\n",
        "GRU adalah variasi dari LSTM yang lebih sederhana karena hanya memiliki dua gerbang utama: reset gate dan update gate.\n",
        "\n",
        "Persamaan GRU:\n",
        "\n",
        "Update Gate:\n",
        "\n",
        "𝑧\n",
        "𝑡\n",
        "=\n",
        "𝜎\n",
        "(\n",
        "𝑊\n",
        "𝑧\n",
        "⋅\n",
        "[\n",
        "ℎ\n",
        "𝑡\n",
        "−\n",
        "1\n",
        ",\n",
        "𝑥\n",
        "𝑡\n",
        "]\n",
        "+\n",
        "𝑏\n",
        "𝑧\n",
        ")\n",
        "z\n",
        "t\n",
        "​\n",
        " =σ(W\n",
        "z\n",
        "​\n",
        " ⋅[h\n",
        "t−1\n",
        "​\n",
        " ,x\n",
        "t\n",
        "​\n",
        " ]+b\n",
        "z\n",
        "​\n",
        " )\n",
        "Reset Gate:\n",
        "\n",
        "𝑟\n",
        "𝑡\n",
        "=\n",
        "𝜎\n",
        "(\n",
        "𝑊\n",
        "𝑟\n",
        "⋅\n",
        "[\n",
        "ℎ\n",
        "𝑡\n",
        "−\n",
        "1\n",
        ",\n",
        "𝑥\n",
        "𝑡\n",
        "]\n",
        "+\n",
        "𝑏\n",
        "𝑟\n",
        ")\n",
        "r\n",
        "t\n",
        "​\n",
        " =σ(W\n",
        "r\n",
        "​\n",
        " ⋅[h\n",
        "t−1\n",
        "​\n",
        " ,x\n",
        "t\n",
        "​\n",
        " ]+b\n",
        "r\n",
        "​\n",
        " )\n",
        "Kandidat Memori:\n",
        "\n",
        "ℎ\n",
        "~\n",
        "𝑡\n",
        "=\n",
        "tanh\n",
        "⁡\n",
        "(\n",
        "𝑊\n",
        "ℎ\n",
        "⋅\n",
        "[\n",
        "𝑟\n",
        "𝑡\n",
        "⋅\n",
        "ℎ\n",
        "𝑡\n",
        "−\n",
        "1\n",
        ",\n",
        "𝑥\n",
        "𝑡\n",
        "]\n",
        "+\n",
        "𝑏\n",
        "ℎ\n",
        ")\n",
        "h\n",
        "~\n",
        "  \n",
        "t\n",
        "​\n",
        " =tanh(W\n",
        "h\n",
        "​\n",
        " ⋅[r\n",
        "t\n",
        "​\n",
        " ⋅h\n",
        "t−1\n",
        "​\n",
        " ,x\n",
        "t\n",
        "​\n",
        " ]+b\n",
        "h\n",
        "​\n",
        " )\n",
        "Output:\n",
        "\n",
        "ℎ\n",
        "𝑡\n",
        "=\n",
        "(\n",
        "1\n",
        "−\n",
        "𝑧\n",
        "𝑡\n",
        ")\n",
        "⋅\n",
        "ℎ\n",
        "~\n",
        "𝑡\n",
        "+\n",
        "𝑧\n",
        "𝑡\n",
        "⋅\n",
        "ℎ\n",
        "𝑡\n",
        "−\n",
        "1\n",
        "h\n",
        "t\n",
        "​\n",
        " =(1−z\n",
        "t\n",
        "​\n",
        " )⋅\n",
        "h\n",
        "~\n",
        "  \n",
        "t\n",
        "​\n",
        " +z\n",
        "t\n",
        "​\n",
        " ⋅h\n",
        "t−1\n",
        "​\n",
        "\n",
        "RNN (Recurrent Neural Network):\n",
        "\n",
        "RNN lebih sederhana dibandingkan LSTM dan GRU, dan biasanya digunakan untuk urutan yang lebih pendek atau di mana hubungan jangka panjang tidak terlalu penting.\n",
        "\n",
        "Persamaan RNN:\n",
        "\n",
        "Output:\n",
        "\n",
        "ℎ\n",
        "𝑡\n",
        "=\n",
        "tanh\n",
        "⁡\n",
        "(\n",
        "𝑊\n",
        "⋅\n",
        "[\n",
        "ℎ\n",
        "𝑡\n",
        "−\n",
        "1\n",
        ",\n",
        "𝑥\n",
        "𝑡\n",
        "]\n",
        "+\n",
        "𝑏\n",
        ")\n",
        "h\n",
        "t\n",
        "​\n",
        " =tanh(W⋅[h\n",
        "t−1\n",
        "​\n",
        " ,x\n",
        "t\n",
        "​\n",
        " ]+b)"
      ],
      "metadata": {
        "id": "5fMSXgHI0P3g"
      }
    }
  ]
}